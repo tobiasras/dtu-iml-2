{
 "cells": [
  {
   "cell_type": "markdown",
   "id": "8f1ea28e",
   "metadata": {},
   "source": [
    "## Import and clean data  "
   ]
  },
  {
   "cell_type": "code",
   "execution_count": 2,
   "id": "3a142e50",
   "metadata": {},
   "outputs": [
    {
     "data": {
      "application/vnd.microsoft.datawrangler.viewer.v0+json": {
       "columns": [
        {
         "name": "index",
         "rawType": "object",
         "type": "string"
        },
        {
         "name": "cut",
         "rawType": "float64",
         "type": "float"
        },
        {
         "name": "color",
         "rawType": "float64",
         "type": "float"
        },
        {
         "name": "clarity",
         "rawType": "float64",
         "type": "float"
        },
        {
         "name": "depth",
         "rawType": "float64",
         "type": "float"
        },
        {
         "name": "table",
         "rawType": "float64",
         "type": "float"
        },
        {
         "name": "x",
         "rawType": "float64",
         "type": "float"
        },
        {
         "name": "z",
         "rawType": "float64",
         "type": "float"
        },
        {
         "name": "y",
         "rawType": "float64",
         "type": "float"
        },
        {
         "name": "log_carat",
         "rawType": "float64",
         "type": "float"
        },
        {
         "name": "log_price",
         "rawType": "float64",
         "type": "float"
        }
       ],
       "conversionMethod": "pd.DataFrame",
       "ref": "09594e50-f513-4afd-b653-3fa5cbfabc9a",
       "rows": [
        [
         "count",
         "53940.0",
         "53940.0",
         "53940.0",
         "53940.0",
         "53940.0",
         "53940.0",
         "53940.0",
         "53940.0",
         "53940.0",
         "53940.0"
        ],
        [
         "mean",
         "6.744491670544518e-17",
         "-1.5175106258725165e-16",
         "2.529184376454194e-16",
         "5.930146992667443e-15",
         "3.266863152920001e-15",
         "-5.058368752908388e-16",
         "4.215307294090324e-16",
         "-3.372245835272259e-17",
         "-1.3488983341089036e-16",
         "7.250328545835356e-16"
        ],
        [
         "std",
         "1.0000000000000522",
         "0.9999999999998932",
         "1.0000000000004075",
         "0.9999999999998458",
         "1.0000000000003193",
         "1.0000000000000153",
         "1.0000000000000355",
         "0.9999999999999826",
         "0.9999999999999811",
         "0.9999999999999885"
        ],
        [
         "min",
         "-2.6008395005986453",
         "-2.0021122684804182",
         "-1.852317916459433",
         "-13.087481421530597",
         "-6.470013410929245",
         "-5.109072703875708",
         "-5.014509792054241",
         "-5.02088421329569",
         "-2.0766310339337215",
         "-1.970997282643088"
        ],
        [
         "25%",
         "-0.8096876411657684",
         "-0.8264057351931677",
         "-0.6380891483357931",
         "-0.5231004763610675",
         "-0.6521324960112511",
         "-0.9103164062716359",
         "-0.8909378001530194",
         "-0.8882717404084406",
         "-0.8914145823377717",
         "-0.9168748799609493"
        ],
        [
         "50%",
         "0.08588828855067007",
         "-0.23855246854954248",
         "-0.03097476427397327",
         "0.03531645453535411",
         "-0.2046031948637131",
         "-0.027775273654219283",
         "-0.012376069919769873",
         "-0.021473785290140157",
         "0.06547575356186655",
         "-0.0030827229899907964"
        ],
        [
         "75%",
         "0.9814642182671086",
         "0.9371540647377081",
         "0.5761396197878467",
         "0.5239312690697266",
         "0.6904554074313629",
         "0.7210475055363157",
         "0.7103118049495167",
         "0.7052356114252025",
         "0.7424200722587871",
         "0.781805713221456"
        ],
        [
         "max",
         "0.9814642182671086",
         "1.5250073313813335",
         "2.3974827719733063",
         "12.041280468808463",
         "16.80151024874273",
         "4.4651614014889915",
         "40.04720475861891",
         "46.549216348793074",
         "3.430760117568287",
         "2.026381173569281"
        ]
       ],
       "shape": {
        "columns": 10,
        "rows": 8
       }
      },
      "text/html": [
       "<div>\n",
       "<style scoped>\n",
       "    .dataframe tbody tr th:only-of-type {\n",
       "        vertical-align: middle;\n",
       "    }\n",
       "\n",
       "    .dataframe tbody tr th {\n",
       "        vertical-align: top;\n",
       "    }\n",
       "\n",
       "    .dataframe thead th {\n",
       "        text-align: right;\n",
       "    }\n",
       "</style>\n",
       "<table border=\"1\" class=\"dataframe\">\n",
       "  <thead>\n",
       "    <tr style=\"text-align: right;\">\n",
       "      <th></th>\n",
       "      <th>cut</th>\n",
       "      <th>color</th>\n",
       "      <th>clarity</th>\n",
       "      <th>depth</th>\n",
       "      <th>table</th>\n",
       "      <th>x</th>\n",
       "      <th>z</th>\n",
       "      <th>y</th>\n",
       "      <th>log_carat</th>\n",
       "      <th>log_price</th>\n",
       "    </tr>\n",
       "  </thead>\n",
       "  <tbody>\n",
       "    <tr>\n",
       "      <th>count</th>\n",
       "      <td>5.394000e+04</td>\n",
       "      <td>5.394000e+04</td>\n",
       "      <td>5.394000e+04</td>\n",
       "      <td>5.394000e+04</td>\n",
       "      <td>5.394000e+04</td>\n",
       "      <td>5.394000e+04</td>\n",
       "      <td>5.394000e+04</td>\n",
       "      <td>5.394000e+04</td>\n",
       "      <td>5.394000e+04</td>\n",
       "      <td>5.394000e+04</td>\n",
       "    </tr>\n",
       "    <tr>\n",
       "      <th>mean</th>\n",
       "      <td>6.744492e-17</td>\n",
       "      <td>-1.517511e-16</td>\n",
       "      <td>2.529184e-16</td>\n",
       "      <td>5.930147e-15</td>\n",
       "      <td>3.266863e-15</td>\n",
       "      <td>-5.058369e-16</td>\n",
       "      <td>4.215307e-16</td>\n",
       "      <td>-3.372246e-17</td>\n",
       "      <td>-1.348898e-16</td>\n",
       "      <td>7.250329e-16</td>\n",
       "    </tr>\n",
       "    <tr>\n",
       "      <th>std</th>\n",
       "      <td>1.000000e+00</td>\n",
       "      <td>1.000000e+00</td>\n",
       "      <td>1.000000e+00</td>\n",
       "      <td>1.000000e+00</td>\n",
       "      <td>1.000000e+00</td>\n",
       "      <td>1.000000e+00</td>\n",
       "      <td>1.000000e+00</td>\n",
       "      <td>1.000000e+00</td>\n",
       "      <td>1.000000e+00</td>\n",
       "      <td>1.000000e+00</td>\n",
       "    </tr>\n",
       "    <tr>\n",
       "      <th>min</th>\n",
       "      <td>-2.600840e+00</td>\n",
       "      <td>-2.002112e+00</td>\n",
       "      <td>-1.852318e+00</td>\n",
       "      <td>-1.308748e+01</td>\n",
       "      <td>-6.470013e+00</td>\n",
       "      <td>-5.109073e+00</td>\n",
       "      <td>-5.014510e+00</td>\n",
       "      <td>-5.020884e+00</td>\n",
       "      <td>-2.076631e+00</td>\n",
       "      <td>-1.970997e+00</td>\n",
       "    </tr>\n",
       "    <tr>\n",
       "      <th>25%</th>\n",
       "      <td>-8.096876e-01</td>\n",
       "      <td>-8.264057e-01</td>\n",
       "      <td>-6.380891e-01</td>\n",
       "      <td>-5.231005e-01</td>\n",
       "      <td>-6.521325e-01</td>\n",
       "      <td>-9.103164e-01</td>\n",
       "      <td>-8.909378e-01</td>\n",
       "      <td>-8.882717e-01</td>\n",
       "      <td>-8.914146e-01</td>\n",
       "      <td>-9.168749e-01</td>\n",
       "    </tr>\n",
       "    <tr>\n",
       "      <th>50%</th>\n",
       "      <td>8.588829e-02</td>\n",
       "      <td>-2.385525e-01</td>\n",
       "      <td>-3.097476e-02</td>\n",
       "      <td>3.531645e-02</td>\n",
       "      <td>-2.046032e-01</td>\n",
       "      <td>-2.777527e-02</td>\n",
       "      <td>-1.237607e-02</td>\n",
       "      <td>-2.147379e-02</td>\n",
       "      <td>6.547575e-02</td>\n",
       "      <td>-3.082723e-03</td>\n",
       "    </tr>\n",
       "    <tr>\n",
       "      <th>75%</th>\n",
       "      <td>9.814642e-01</td>\n",
       "      <td>9.371541e-01</td>\n",
       "      <td>5.761396e-01</td>\n",
       "      <td>5.239313e-01</td>\n",
       "      <td>6.904554e-01</td>\n",
       "      <td>7.210475e-01</td>\n",
       "      <td>7.103118e-01</td>\n",
       "      <td>7.052356e-01</td>\n",
       "      <td>7.424201e-01</td>\n",
       "      <td>7.818057e-01</td>\n",
       "    </tr>\n",
       "    <tr>\n",
       "      <th>max</th>\n",
       "      <td>9.814642e-01</td>\n",
       "      <td>1.525007e+00</td>\n",
       "      <td>2.397483e+00</td>\n",
       "      <td>1.204128e+01</td>\n",
       "      <td>1.680151e+01</td>\n",
       "      <td>4.465161e+00</td>\n",
       "      <td>4.004720e+01</td>\n",
       "      <td>4.654922e+01</td>\n",
       "      <td>3.430760e+00</td>\n",
       "      <td>2.026381e+00</td>\n",
       "    </tr>\n",
       "  </tbody>\n",
       "</table>\n",
       "</div>"
      ],
      "text/plain": [
       "                cut         color       clarity         depth         table  \\\n",
       "count  5.394000e+04  5.394000e+04  5.394000e+04  5.394000e+04  5.394000e+04   \n",
       "mean   6.744492e-17 -1.517511e-16  2.529184e-16  5.930147e-15  3.266863e-15   \n",
       "std    1.000000e+00  1.000000e+00  1.000000e+00  1.000000e+00  1.000000e+00   \n",
       "min   -2.600840e+00 -2.002112e+00 -1.852318e+00 -1.308748e+01 -6.470013e+00   \n",
       "25%   -8.096876e-01 -8.264057e-01 -6.380891e-01 -5.231005e-01 -6.521325e-01   \n",
       "50%    8.588829e-02 -2.385525e-01 -3.097476e-02  3.531645e-02 -2.046032e-01   \n",
       "75%    9.814642e-01  9.371541e-01  5.761396e-01  5.239313e-01  6.904554e-01   \n",
       "max    9.814642e-01  1.525007e+00  2.397483e+00  1.204128e+01  1.680151e+01   \n",
       "\n",
       "                  x             z             y     log_carat     log_price  \n",
       "count  5.394000e+04  5.394000e+04  5.394000e+04  5.394000e+04  5.394000e+04  \n",
       "mean  -5.058369e-16  4.215307e-16 -3.372246e-17 -1.348898e-16  7.250329e-16  \n",
       "std    1.000000e+00  1.000000e+00  1.000000e+00  1.000000e+00  1.000000e+00  \n",
       "min   -5.109073e+00 -5.014510e+00 -5.020884e+00 -2.076631e+00 -1.970997e+00  \n",
       "25%   -9.103164e-01 -8.909378e-01 -8.882717e-01 -8.914146e-01 -9.168749e-01  \n",
       "50%   -2.777527e-02 -1.237607e-02 -2.147379e-02  6.547575e-02 -3.082723e-03  \n",
       "75%    7.210475e-01  7.103118e-01  7.052356e-01  7.424201e-01  7.818057e-01  \n",
       "max    4.465161e+00  4.004720e+01  4.654922e+01  3.430760e+00  2.026381e+00  "
      ]
     },
     "execution_count": 2,
     "metadata": {},
     "output_type": "execute_result"
    }
   ],
   "source": [
    "from util.clean_data import clean_data\n",
    "import pandas as pd\n",
    "import matplotlib.pyplot as plt\n",
    "import numpy as np\n",
    "from sklearn.linear_model import Ridge\n",
    "\n",
    "df = pd.read_csv('data/diamond.csv')\n",
    "\n",
    "# performs interger encoding and log transforms carat and price.\n",
    "df = clean_data(df)\n",
    "\n",
    "Y_price = df['price'].values\n",
    "\n",
    "df = df.drop([\"carat\", \"price\"], axis=1)\n",
    "\n",
    "df = (df - df.mean() ) / df.std(ddof=1)\n",
    "\n",
    "\n",
    "df.describe()"
   ]
  },
  {
   "cell_type": "code",
   "execution_count": 3,
   "id": "046e8f2b",
   "metadata": {},
   "outputs": [],
   "source": [
    "# With log price\n",
    "Y = df['log_price'].values\n",
    "\n",
    "# with price\n",
    "#Y = Y_price\n",
    "\n",
    "feature_names = df.columns\n",
    "\n",
    "df = df.drop('log_price', axis=1)\n",
    "\n",
    "X = df.values"
   ]
  },
  {
   "cell_type": "markdown",
   "id": "3f238d8b",
   "metadata": {},
   "source": [
    "## Find the best regulzeration paramaetetr"
   ]
  },
  {
   "cell_type": "code",
   "execution_count": 4,
   "id": "a0749dd3",
   "metadata": {},
   "outputs": [
    {
     "name": "stdout",
     "output_type": "stream",
     "text": [
      "Regularization: 0          Cross-Validation RMSE: 0.14339988\n",
      "Regularization: 1e-05      Cross-Validation RMSE: 0.14339988\n",
      "Regularization: 0.0001     Cross-Validation RMSE: 0.14339988\n",
      "Regularization: 0.001      Cross-Validation RMSE: 0.14339988\n",
      "Regularization: 0.01       Cross-Validation RMSE: 0.14339990\n",
      "Regularization: 0.1        Cross-Validation RMSE: 0.14340001\n",
      "Regularization: 10         Cross-Validation RMSE: 0.14343182\n",
      "Regularization: 100        Cross-Validation RMSE: 0.14474757\n",
      "Regularization: 1000       Cross-Validation RMSE: 0.16129165\n",
      "Regularization: 5000       Cross-Validation RMSE: 0.18507682\n",
      "Regularization: 10000      Cross-Validation RMSE: 0.20616440\n",
      "\n",
      "Final model :\n",
      "Test RMSE: 0.14662990\n"
     ]
    }
   ],
   "source": [
    "from sklearn.model_selection import cross_val_score\n",
    "from sklearn.model_selection import train_test_split\n",
    "from sklearn.metrics import mean_squared_error\n",
    "\n",
    "X_train, X_test, Y_train, Y_test = train_test_split(X, Y, test_size=0.2, random_state=42)\n",
    "\n",
    "reg_tries = [0, 0.00001, 0.0001, 0.001, 0.01, 0.1, 10, 100, 1000, 5000, 10000]\n",
    "results = []\n",
    "\n",
    "for reg_value in reg_tries: \n",
    "    ridge_model = Ridge(alpha=reg_value)\n",
    "    \n",
    "    scores = cross_val_score(ridge_model, X_train, Y_train, cv=10, scoring=\"neg_root_mean_squared_error\")\n",
    "    \n",
    "    mean_rmse = -scores.mean()  # Convert negative RMSE back to positive\n",
    "    results.append((reg_value, mean_rmse))\n",
    "    print(f\"Regularization: {reg_value:<10} Cross-Validation RMSE: {mean_rmse:.8f}\")\n",
    "\n",
    "reg_values, rmse_values = zip(*results)\n",
    "\n",
    "# optimal reg model # with lowest RSME\n",
    "opt_reg = reg_values[rmse_values.index(min(rmse_values))]\n",
    "\n",
    "\n",
    "\n",
    "\n",
    "\n",
    "# train model with all features and optimal reg we found\n",
    "model = Ridge(alpha=opt_reg)\n",
    "model.fit(X_train, Y_train)\n",
    "\n",
    "\n",
    "y_pred = model.predict(X_test)\n",
    "\n",
    "# Calculate RMSE for the test set\n",
    "test_rmse_all_features = np.sqrt(mean_squared_error(Y_test, y_pred))\n",
    "\n",
    "print(\"\\nFinal model :\")\n",
    "print(f\"Test RMSE: {test_rmse_all_features:.8f}\")"
   ]
  },
  {
   "cell_type": "code",
   "execution_count": 5,
   "id": "f4fb8afc",
   "metadata": {},
   "outputs": [
    {
     "data": {
      "image/png": "[encoded data removed]",
      "text/plain": [
       "<Figure size 1000x600 with 1 Axes>"
      ]
     },
     "metadata": {},
     "output_type": "display_data"
    }
   ],
   "source": [
    "# Plot the results\n",
    "plt.figure(figsize=(10, 6))\n",
    "plt.plot(reg_values, rmse_values, marker='o', linestyle='-', color='b')\n",
    "plt.xscale('log')\n",
    "plt.xlabel('Regularization Strength (alpha)')\n",
    "plt.ylabel('Cross-Validation RMSE')\n",
    "plt.title('Effect of Regularization on RMSE')\n",
    "plt.grid(True)\n",
    "plt.show()    \n"
   ]
  },
  {
   "cell_type": "markdown",
   "id": "dba3152c",
   "metadata": {},
   "source": [
    "# Feature selection:"
   ]
  },
  {
   "cell_type": "markdown",
   "id": "2906a741",
   "metadata": {},
   "source": [
    "Backwards selection"
   ]
  },
  {
   "cell_type": "code",
   "execution_count": 7,
   "id": "592058ca",
   "metadata": {},
   "outputs": [
    {
     "name": "stdout",
     "output_type": "stream",
     "text": [
      "Selected Features (Backward): [0 1 2 5 8]\n",
      "Backward score: 0.14343409206956662\n"
     ]
    }
   ],
   "source": [
    "from sklearn.feature_selection import SequentialFeatureSelector\n",
    "\n",
    "# Backward selection: Start with all features and remove one at a time\n",
    "backward_selector = SequentialFeatureSelector(\n",
    "    Ridge(alpha=opt_reg),  # model with optimal reg.\n",
    "    n_features_to_select=\"auto\",\n",
    "    direction=\"backward\", \n",
    "    cv=10, \n",
    "    scoring=\"neg_root_mean_squared_error\"\n",
    ")\n",
    "backward_selector.fit(X_train, Y_train)\n",
    "\n",
    "# Get selected feature indices\n",
    "selected_backward_features = backward_selector.get_support(indices=True)\n",
    "print(f\"Selected Features (Backward): {selected_backward_features}\")\n",
    "\n",
    "\n",
    "X_train_backward = X_train[:, selected_backward_features]\n",
    "\n",
    "# backward model evaluate\n",
    "backward_score = cross_val_score(Ridge(alpha=opt_reg), X_train_backward, Y_train, cv=10, scoring=\"neg_root_mean_squared_error\")\n",
    "\n",
    "print(\"Backward score:\", -backward_score.mean())\n"
   ]
  },
  {
   "cell_type": "markdown",
   "id": "9dd31d46",
   "metadata": {},
   "source": [
    "Forward Selection:"
   ]
  },
  {
   "cell_type": "code",
   "execution_count": 8,
   "id": "e3e093c0",
   "metadata": {},
   "outputs": [
    {
     "name": "stdout",
     "output_type": "stream",
     "text": [
      "Selected Features (Forward): [0 1 2 8]\n",
      "Forward score: 0.14352236951954928\n"
     ]
    }
   ],
   "source": [
    "# Forward selection: Start with no features and add one at a time\n",
    "forward_selector = SequentialFeatureSelector(\n",
    "    Ridge(alpha=opt_reg),  # model with optimal reg.\n",
    "    n_features_to_select=\"auto\",\n",
    "    direction=\"forward\", \n",
    "    cv=10, \n",
    "    scoring=\"neg_root_mean_squared_error\"\n",
    ")\n",
    "forward_selector.fit(X_train, Y_train)\n",
    "\n",
    "# Get selected feature indices\n",
    "selected_forward_features = forward_selector.get_support(indices=True)\n",
    "print(f\"Selected Features (Forward): {selected_forward_features}\")\n",
    "\n",
    "X_train_forward = X_train[:, selected_forward_features]\n",
    "\n",
    "# Forward model evaluation\n",
    "forward_score = cross_val_score(Ridge(alpha=opt_reg), X_train_forward, Y_train, cv=10, scoring=\"neg_root_mean_squared_error\")\n",
    "\n",
    "print(\"Forward score:\", -forward_score.mean())\n"
   ]
  },
  {
   "cell_type": "markdown",
   "id": "7df4e269",
   "metadata": {},
   "source": [
    "# Final model"
   ]
  },
  {
   "cell_type": "code",
   "execution_count": null,
   "id": "cac7af56",
   "metadata": {},
   "outputs": [
    {
     "name": "stdout",
     "output_type": "stream",
     "text": [
      "R^2 All features          : 0.97820559\n",
      "R^2 Forward model         : 0.97821174\n",
      "R^2 Backward model        : 0.97820147\n",
      "\n",
      "Test RMSE All features          : 0.14662990\n",
      "Test RMSE Forward model         : 0.14660922\n",
      "Test RMSE Backward model        : 0.14664375\n",
      "\n",
      "Forward Model Feature Weights:\n",
      "Feature: cut        Weight: 0.03354031\n",
      "Feature: color      Weight: 0.13092502\n",
      "Feature: clarity    Weight: 0.19843262\n",
      "Feature: depth      Weight: -0.00458620\n",
      "Feature: table      Weight: -0.00051295\n",
      "Feature: x          Weight: 0.01851603\n",
      "Feature: z          Weight: 0.00538536\n",
      "Feature: y          Weight: 0.00548592\n",
      "Feature: log_carat  Weight: 1.05295584\n",
      "\n",
      "Forward Model Feature Weights:\n",
      "Feature: cut        Weight: 0.03527469\n",
      "Feature: color      Weight: 0.13079189\n",
      "Feature: clarity    Weight: 0.19883028\n",
      "Feature: log_carat  Weight: 1.08193364\n",
      "\n",
      "Backward Model Feature Weights:\n",
      "Feature: cut        Weight: 0.03437151\n",
      "Feature: color      Weight: 0.13125782\n",
      "Feature: clarity    Weight: 0.19861590\n",
      "Feature: x          Weight: 0.03819616\n",
      "Feature: log_carat  Weight: 1.04401665\n"
     ]
    }
   ],
   "source": [
    "# Train forward model\n",
    "model_forward = Ridge(alpha=opt_reg)\n",
    "model_forward.fit(X_train_forward, Y_train)\n",
    "# Predict and calculate RMSE for forward model\n",
    "y_pred_forward = model_forward.predict(X_test[:, selected_forward_features])\n",
    "test_rmse_forward = np.sqrt(mean_squared_error(Y_test, y_pred_forward))\n",
    "\n",
    "# Train backward model\n",
    "model_backward = Ridge(alpha=opt_reg)\n",
    "model_backward.fit(X_train_backward, Y_train)\n",
    "# Predict and calculate RMSE for backward model\n",
    "y_pred_backward = model_backward.predict(X_test[:, selected_backward_features])\n",
    "test_rmse_backward = np.sqrt(mean_squared_error(Y_test, y_pred_backward))\n",
    "\n",
    "\n",
    "# Calculate R^2 values\n",
    "r2_all_features = model.score(X_test, Y_test)\n",
    "r2_forward = model_forward.score(X_test[:, selected_forward_features], Y_test)\n",
    "r2_backward = model_backward.score(X_test[:, selected_backward_features], Y_test)\n",
    "\n",
    "# Print R^2 values\n",
    "print(f\"R^2 All features          : {r2_all_features:.8f}\")\n",
    "print(f\"R^2 Forward model         : {r2_forward:.8f}\")\n",
    "print(f\"R^2 Backward model        : {r2_backward:.8f}\")\n",
    "\n",
    "# Print results\n",
    "print(f\"\\nTest RMSE All features          : {test_rmse_all_features:.8f}\")\n",
    "print(f\"Test RMSE Forward model         : {test_rmse_forward:.8f}\")\n",
    "print(f\"Test RMSE Backward model        : {test_rmse_backward:.8f}\")\n",
    "\n",
    "\n",
    "\n"
   ]
  },
  {
   "cell_type": "code",
   "execution_count": 13,
   "id": "72cd65c5",
   "metadata": {},
   "outputs": [
    {
     "name": "stdout",
     "output_type": "stream",
     "text": [
      "\n",
      "Forward Model Feature Weights:\n",
      "Feature: cut        Weight: 0.03354031\n",
      "Feature: color      Weight: 0.13092502\n",
      "Feature: clarity    Weight: 0.19843262\n",
      "Feature: depth      Weight: -0.00458620\n",
      "Feature: table      Weight: -0.00051295\n",
      "Feature: x          Weight: 0.01851603\n",
      "Feature: z          Weight: 0.00538536\n",
      "Feature: y          Weight: 0.00548592\n",
      "Feature: log_carat  Weight: 1.05295584\n",
      "\n",
      "Forward Model Feature Weights:\n",
      "Feature: cut        Weight: 0.03527469\n",
      "Feature: color      Weight: 0.13079189\n",
      "Feature: clarity    Weight: 0.19883028\n",
      "Feature: log_carat  Weight: 1.08193364\n",
      "\n",
      "Backward Model Feature Weights:\n",
      "Feature: cut        Weight: 0.03437151\n",
      "Feature: color      Weight: 0.13125782\n",
      "Feature: clarity    Weight: 0.19861590\n",
      "Feature: x          Weight: 0.03819616\n",
      "Feature: log_carat  Weight: 1.04401665\n"
     ]
    }
   ],
   "source": [
    "print(\"\\nForward Model Feature Weights:\")\n",
    "# print feature weight for all features model\n",
    "weights = model.coef_\n",
    "for name, weight in zip(feature_names, weights):\n",
    "    print(f\"Feature: {name:<10} Weight: {weight:.8f}\")\n",
    "\n",
    "\n",
    "# Print feature weights for forward model\n",
    "print(\"\\nForward Model Feature Weights:\")\n",
    "forward_weights = model_forward.coef_\n",
    "for name, weight in zip(feature_names[selected_forward_features], forward_weights):\n",
    "    print(f\"Feature: {name:<10} Weight: {weight:.8f}\")\n",
    "\n",
    "# Print feature weights for backward model\n",
    "print(\"\\nBackward Model Feature Weights:\")\n",
    "backward_weights = model_backward.coef_\n",
    "for name, weight in zip(feature_names[selected_backward_features], backward_weights):\n",
    "    print(f\"Feature: {name:<10} Weight: {weight:.8f}\")"
   ]
  }
 ],
 "metadata": {
  "jupytext": {
   "formats": "ipynb,py"
  },
  "kernelspec": {
   "display_name": "base",
   "language": "python",
   "name": "python3"
  },
  "language_info": {
   "codemirror_mode": {
    "name": "ipython",
    "version": 3
   },
   "file_extension": ".py",
   "mimetype": "text/x-python",
   "name": "python",
   "nbconvert_exporter": "python",
   "pygments_lexer": "ipython3",
   "version": "3.12.7"
  }
 },
 "nbformat": 4,
 "nbformat_minor": 5
}
