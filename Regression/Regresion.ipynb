{
 "cells": [
  {
   "cell_type": "code",
   "execution_count": null,
   "id": "bcef54f5",
   "metadata": {},
   "outputs": [],
   "source": [
    "import pandas as pd\n",
    "import matplotlib.pyplot as plt\n",
    "import numpy as np\n",
    "from scipy.linalg import svd"
   ]
  },
  {
   "cell_type": "code",
   "execution_count": null,
   "id": "fd90b2de",
   "metadata": {},
   "outputs": [],
   "source": [
    "df = pd.read_csv('../data/diamond.csv')\n",
    "\n",
    "df.head(5)"
   ]
  },
  {
   "cell_type": "code",
   "execution_count": null,
   "id": "b7f8b643",
   "metadata": {},
   "outputs": [],
   "source": [
    "\"hello world:\""
   ]
  }
 ],
 "metadata": {
  "jupytext": {
   "formats": "ipynb,py"
  },
  "kernelspec": {
   "display_name": "base",
   "language": "python",
   "name": "python3"
  }
 },
 "nbformat": 4,
 "nbformat_minor": 5
}
