{
 "cells": [
  {
   "cell_type": "code",
   "execution_count": 5,
   "metadata": {},
   "outputs": [],
   "source": [
    "import pandas as pd\n",
    "import matplotlib.pyplot as plt\n",
    "import numpy as np\n",
    "from scipy.linalg import svd"
   ]
  },
  {
   "cell_type": "code",
   "execution_count": 14,
   "metadata": {},
   "outputs": [
    {
     "name": "stdout",
     "output_type": "stream",
     "text": [
      "    cut color clarity  carat  depth  table  price     x     z     y\n",
      "0  Fair     E     VS2   0.22   65.1   61.0    337  3.87  2.49  3.78\n",
      "1  Fair     E     SI2   0.86   55.1   69.0   2757  6.45  3.52  6.33\n",
      "2  Fair     F     SI2   0.96   66.3   62.0   2759  6.27  4.07  5.95\n",
      "3  Fair     F     VS2   0.70   64.5   57.0   2762  5.57  3.58  5.53\n",
      "4  Fair     F     VS2   0.70   65.3   55.0   2762  5.63  3.66  5.58\n"
     ]
    }
   ],
   "source": [
    "# load the data\n",
    "data = pd.read_csv('../data/diamond.csv')\n",
    "\n",
    "# plot the data\n",
    "print(data.head())"
   ]
  }
 ],
 "metadata": {
  "kernelspec": {
   "display_name": "MLDM",
   "language": "python",
   "name": "python3"
  },
  "language_info": {
   "codemirror_mode": {
    "name": "ipython",
    "version": 3
   },
   "file_extension": ".py",
   "mimetype": "text/x-python",
   "name": "python",
   "nbconvert_exporter": "python",
   "pygments_lexer": "ipython3",
   "version": "3.11.11"
  }
 },
 "nbformat": 4,
 "nbformat_minor": 2
}
