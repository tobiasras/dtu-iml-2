{
 "cells": [
  {
   "cell_type": "code",
   "execution_count": null,
   "id": "ec8e48b7",
   "metadata": {
    "lines_to_next_cell": 1
   },
   "outputs": [],
   "source": [
    "import pandas as pd\n",
    "import numpy as np"
   ]
  },
  {
   "cell_type": "code",
   "execution_count": null,
   "id": "5d2d8b4d",
   "metadata": {},
   "outputs": [],
   "source": [
    "def clean_data(df):\n",
    "    \"\"\"\n",
    "    Cleans and preprocesses the given DataFrame containing data from the diamonds dataset.\n",
    "    This function performs the following operations:\n",
    "    1. Maps ordinal categorical variables ('cut', 'color', and 'clarity') to numerical values \n",
    "    based on predefined mappings:\n",
    "    - 'cut': {'Fair': 1, 'Good': 2, 'Very Good': 3, 'Premium': 4, 'Ideal': 5}\n",
    "    - 'color': {'J': 1, 'I': 2, 'H': 3, 'G': 4, 'F': 5, 'E': 6, 'D': 7}\n",
    "    - 'clarity': {'I3': 1, 'I2': 2, 'I1': 3, 'SI2': 4, 'SI1': 5, 'VS2': 6, 'VS1': 7, \n",
    "                    'VVS2': 8, 'VVS1': 9, 'IF': 10}\n",
    "    2. Applies a logarithmic transformation to the 'carat' and 'price' columns, creating \n",
    "    new columns 'log_carat' and 'log_price'.\n",
    "\n",
    "    Parameters:\n",
    "        df (pandas.DataFrame): A DataFrame containing the diamonds dataset with columns \n",
    "                            'cut', 'color', 'clarity', 'carat', and 'price'.\n",
    "\n",
    "    Returns:\n",
    "        pandas.DataFrame: The modified DataFrame with the 'cut', 'color', and 'clarity' \n",
    "                        columns mapped to numerical values, and new columns 'log_carat' \n",
    "                        and 'log_price' added.\n",
    "    \"\"\"\n",
    "    \n",
    "    # Mapping for ordinal categorical variables\n",
    "    cut_mapping = {'Fair': 1, 'Good': 2, 'Very Good': 3, 'Premium': 4, 'Ideal': 5}\n",
    "    color_mapping = {'J': 1, 'I': 2, 'H': 3, 'G': 4, 'F': 5, 'E': 6, 'D': 7}\n",
    "    clarity_mapping = {'I3': 1, 'I2': 2, 'I1': 3, 'SI2': 4, 'SI1': 5, 'VS2': 6, 'VS1': 7, 'VVS2': 8, 'VVS1': 9, 'IF': 10}\n",
    "\n",
    "    # Apply the mapping\n",
    "    df['cut'] = df['cut'].map(cut_mapping)\n",
    "    df['color'] = df['color'].map(color_mapping)\n",
    "    df['clarity'] = df['clarity'].map(clarity_mapping)\n",
    "    \n",
    "    # Log transform, carat and price.\n",
    "    df['log_carat'] = np.log(df['carat'])\n",
    "    df['log_price'] = np.log(df['price'])\n",
    "    \n",
    "    return df"
   ]
  }
 ],
 "metadata": {
  "jupytext": {
   "cell_metadata_filter": "-all",
   "main_language": "python",
   "notebook_metadata_filter": "-all"
  }
 },
 "nbformat": 4,
 "nbformat_minor": 5
}
